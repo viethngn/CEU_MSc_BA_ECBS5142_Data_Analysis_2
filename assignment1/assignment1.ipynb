{
 "cells": [
  {
   "cell_type": "markdown",
   "id": "0dcb44e5-771d-42a1-b1f6-43b072d4f0fc",
   "metadata": {},
   "source": [
    "# Data Analysis 2 - ECBS5142 - Assignment 1"
   ]
  },
  {
   "cell_type": "code",
   "execution_count": 2,
   "id": "c33f7860-fc01-48da-b973-2cc413412b3a",
   "metadata": {
    "tags": []
   },
   "outputs": [
    {
     "name": "stdout",
     "output_type": "stream",
     "text": [
      "Collecting stargazer (from -r requirements.txt (line 1))\n",
      "  Obtaining dependency information for stargazer from https://files.pythonhosted.org/packages/05/ef/bf2eb43ff3047099f3c2f502040fcca384d3b035adf38cefcca96ae6cf92/stargazer-0.0.6-py3-none-any.whl.metadata\n",
      "  Using cached stargazer-0.0.6-py3-none-any.whl.metadata (6.3 kB)\n",
      "Using cached stargazer-0.0.6-py3-none-any.whl (11 kB)\n",
      "Installing collected packages: stargazer\n",
      "Successfully installed stargazer-0.0.6\n",
      "Note: you may need to restart the kernel to use updated packages.\n"
     ]
    }
   ],
   "source": [
    "pip install -r requirements.txt"
   ]
  },
  {
   "cell_type": "code",
   "execution_count": 1,
   "id": "bb5dc37c-316f-4247-b4ee-96ca7bcd48ca",
   "metadata": {
    "tags": []
   },
   "outputs": [],
   "source": [
    "# import libs\n",
    "import os\n",
    "import sys\n",
    "import warnings\n",
    "\n",
    "import numpy as np\n",
    "import pandas as pd\n",
    "from mizani.formatters import percent_format\n",
    "from plotnine import *\n",
    "from datetime import datetime\n",
    "import statsmodels.api as sm\n",
    "import statsmodels.formula.api as smf\n",
    "from scipy.stats import norm\n",
    "from IPython.core.display import HTML\n",
    "from stargazer.stargazer import Stargazer\n",
    "import statsmodels.nonparametric.kernel_regression as loess\n",
    "\n",
    "from mizani.transforms import log_trans\n",
    "from mizani.formatters import percent_format\n",
    "from mizani.formatters import log_format\n",
    "\n",
    "warnings.filterwarnings(\"ignore\")"
   ]
  },
  {
   "cell_type": "code",
   "execution_count": null,
   "id": "7ba750b9-dada-4804-ac1c-6777c52f8e48",
   "metadata": {},
   "outputs": [],
   "source": []
  }
 ],
 "metadata": {
  "kernelspec": {
   "display_name": "Python 3 (ipykernel)",
   "language": "python",
   "name": "python3"
  },
  "language_info": {
   "codemirror_mode": {
    "name": "ipython",
    "version": 3
   },
   "file_extension": ".py",
   "mimetype": "text/x-python",
   "name": "python",
   "nbconvert_exporter": "python",
   "pygments_lexer": "ipython3",
   "version": "3.11.5"
  }
 },
 "nbformat": 4,
 "nbformat_minor": 5
}
