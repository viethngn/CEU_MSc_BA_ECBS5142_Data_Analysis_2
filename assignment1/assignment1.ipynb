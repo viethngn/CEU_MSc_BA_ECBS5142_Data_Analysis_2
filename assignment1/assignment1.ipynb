{
 "cells": [
  {
   "cell_type": "markdown",
   "id": "0dcb44e5-771d-42a1-b1f6-43b072d4f0fc",
   "metadata": {},
   "source": [
    "# Data Analysis 2 - ECBS5142 - Assignment 1"
   ]
  },
  {
   "cell_type": "code",
   "execution_count": 1,
   "id": "c33f7860-fc01-48da-b973-2cc413412b3a",
   "metadata": {
    "tags": []
   },
   "outputs": [],
   "source": [
    "%%capture\n",
    "!pip install -r requirements.txt;"
   ]
  },
  {
   "cell_type": "code",
   "execution_count": 2,
   "id": "bb5dc37c-316f-4247-b4ee-96ca7bcd48ca",
   "metadata": {
    "tags": []
   },
   "outputs": [],
   "source": [
    "# import libs\n",
    "import os\n",
    "import sys\n",
    "import warnings\n",
    "\n",
    "import numpy as np\n",
    "import pandas as pd\n",
    "from mizani.formatters import percent_format\n",
    "from plotnine import *\n",
    "from datetime import datetime\n",
    "import statsmodels.api as sm\n",
    "import statsmodels.formula.api as smf\n",
    "from scipy.stats import norm\n",
    "from IPython.core.display import HTML\n",
    "from stargazer.stargazer import Stargazer\n",
    "import statsmodels.nonparametric.kernel_regression as loess\n",
    "\n",
    "from mizani.transforms import log_trans\n",
    "from mizani.formatters import percent_format\n",
    "from mizani.formatters import log_format\n",
    "\n",
    "warnings.filterwarnings(\"ignore\")"
   ]
  },
  {
   "cell_type": "code",
   "execution_count": 3,
   "id": "d47b1b0d-a109-4942-8734-d02b5a7bbe31",
   "metadata": {
    "tags": []
   },
   "outputs": [],
   "source": [
    "# Import the prewritten helper functions\n",
    "from py_helper_functions import *"
   ]
  },
  {
   "cell_type": "code",
   "execution_count": 4,
   "id": "7ba750b9-dada-4804-ac1c-6777c52f8e48",
   "metadata": {
    "tags": []
   },
   "outputs": [
    {
     "data": {
      "text/html": [
       "<div>\n",
       "<style scoped>\n",
       "    .dataframe tbody tr th:only-of-type {\n",
       "        vertical-align: middle;\n",
       "    }\n",
       "\n",
       "    .dataframe tbody tr th {\n",
       "        vertical-align: top;\n",
       "    }\n",
       "\n",
       "    .dataframe thead th {\n",
       "        text-align: right;\n",
       "    }\n",
       "</style>\n",
       "<table border=\"1\" class=\"dataframe\">\n",
       "  <thead>\n",
       "    <tr style=\"text-align: right;\">\n",
       "      <th></th>\n",
       "      <th>Unnamed: 0</th>\n",
       "      <th>hhid</th>\n",
       "      <th>intmonth</th>\n",
       "      <th>stfips</th>\n",
       "      <th>weight</th>\n",
       "      <th>earnwke</th>\n",
       "      <th>uhours</th>\n",
       "      <th>grade92</th>\n",
       "      <th>race</th>\n",
       "      <th>ethnic</th>\n",
       "      <th>...</th>\n",
       "      <th>ownchild</th>\n",
       "      <th>chldpres</th>\n",
       "      <th>prcitshp</th>\n",
       "      <th>state</th>\n",
       "      <th>ind02</th>\n",
       "      <th>occ2012</th>\n",
       "      <th>class</th>\n",
       "      <th>unionmme</th>\n",
       "      <th>unioncov</th>\n",
       "      <th>lfsr94</th>\n",
       "    </tr>\n",
       "  </thead>\n",
       "  <tbody>\n",
       "    <tr>\n",
       "      <th>0</th>\n",
       "      <td>3</td>\n",
       "      <td>2600310997690</td>\n",
       "      <td>January</td>\n",
       "      <td>AL</td>\n",
       "      <td>3151.6801</td>\n",
       "      <td>1692.00</td>\n",
       "      <td>40</td>\n",
       "      <td>43</td>\n",
       "      <td>1</td>\n",
       "      <td>NaN</td>\n",
       "      <td>...</td>\n",
       "      <td>0</td>\n",
       "      <td>0</td>\n",
       "      <td>Native, Born In US</td>\n",
       "      <td>63</td>\n",
       "      <td>Employment services (5613)</td>\n",
       "      <td>630</td>\n",
       "      <td>Private, For Profit</td>\n",
       "      <td>No</td>\n",
       "      <td>No</td>\n",
       "      <td>Employed-At Work</td>\n",
       "    </tr>\n",
       "    <tr>\n",
       "      <th>1</th>\n",
       "      <td>5</td>\n",
       "      <td>75680310997590</td>\n",
       "      <td>January</td>\n",
       "      <td>AL</td>\n",
       "      <td>3457.1138</td>\n",
       "      <td>450.00</td>\n",
       "      <td>40</td>\n",
       "      <td>41</td>\n",
       "      <td>2</td>\n",
       "      <td>NaN</td>\n",
       "      <td>...</td>\n",
       "      <td>2</td>\n",
       "      <td>6</td>\n",
       "      <td>Native, Born In US</td>\n",
       "      <td>63</td>\n",
       "      <td>Outpatient care centers (6214)</td>\n",
       "      <td>5400</td>\n",
       "      <td>Private, For Profit</td>\n",
       "      <td>No</td>\n",
       "      <td>No</td>\n",
       "      <td>Employed-Absent</td>\n",
       "    </tr>\n",
       "    <tr>\n",
       "      <th>2</th>\n",
       "      <td>6</td>\n",
       "      <td>75680310997590</td>\n",
       "      <td>January</td>\n",
       "      <td>AL</td>\n",
       "      <td>3936.9110</td>\n",
       "      <td>1090.00</td>\n",
       "      <td>60</td>\n",
       "      <td>41</td>\n",
       "      <td>2</td>\n",
       "      <td>NaN</td>\n",
       "      <td>...</td>\n",
       "      <td>2</td>\n",
       "      <td>6</td>\n",
       "      <td>Native, Born In US</td>\n",
       "      <td>63</td>\n",
       "      <td>Motor vehicles and motor vehicle equipment man...</td>\n",
       "      <td>8140</td>\n",
       "      <td>Private, For Profit</td>\n",
       "      <td>No</td>\n",
       "      <td>No</td>\n",
       "      <td>Employed-At Work</td>\n",
       "    </tr>\n",
       "    <tr>\n",
       "      <th>3</th>\n",
       "      <td>10</td>\n",
       "      <td>179140131100930</td>\n",
       "      <td>January</td>\n",
       "      <td>AL</td>\n",
       "      <td>3288.3640</td>\n",
       "      <td>769.23</td>\n",
       "      <td>40</td>\n",
       "      <td>40</td>\n",
       "      <td>1</td>\n",
       "      <td>NaN</td>\n",
       "      <td>...</td>\n",
       "      <td>2</td>\n",
       "      <td>4</td>\n",
       "      <td>Native, Born In US</td>\n",
       "      <td>63</td>\n",
       "      <td>**Publishing, except newspapers and software (...</td>\n",
       "      <td>8255</td>\n",
       "      <td>Private, For Profit</td>\n",
       "      <td>Yes</td>\n",
       "      <td>NaN</td>\n",
       "      <td>Employed-At Work</td>\n",
       "    </tr>\n",
       "    <tr>\n",
       "      <th>4</th>\n",
       "      <td>11</td>\n",
       "      <td>179140131100930</td>\n",
       "      <td>January</td>\n",
       "      <td>AL</td>\n",
       "      <td>3422.8500</td>\n",
       "      <td>826.92</td>\n",
       "      <td>40</td>\n",
       "      <td>43</td>\n",
       "      <td>1</td>\n",
       "      <td>NaN</td>\n",
       "      <td>...</td>\n",
       "      <td>2</td>\n",
       "      <td>4</td>\n",
       "      <td>Native, Born In US</td>\n",
       "      <td>63</td>\n",
       "      <td>Banking and related activities (521, 52211,52219)</td>\n",
       "      <td>5940</td>\n",
       "      <td>Private, For Profit</td>\n",
       "      <td>No</td>\n",
       "      <td>No</td>\n",
       "      <td>Employed-At Work</td>\n",
       "    </tr>\n",
       "  </tbody>\n",
       "</table>\n",
       "<p>5 rows × 23 columns</p>\n",
       "</div>"
      ],
      "text/plain": [
       "   Unnamed: 0             hhid intmonth stfips     weight  earnwke  uhours  \\\n",
       "0           3    2600310997690  January     AL  3151.6801  1692.00      40   \n",
       "1           5   75680310997590  January     AL  3457.1138   450.00      40   \n",
       "2           6   75680310997590  January     AL  3936.9110  1090.00      60   \n",
       "3          10  179140131100930  January     AL  3288.3640   769.23      40   \n",
       "4          11  179140131100930  January     AL  3422.8500   826.92      40   \n",
       "\n",
       "   grade92  race  ethnic  ...  ownchild  chldpres            prcitshp  state  \\\n",
       "0       43     1     NaN  ...         0         0  Native, Born In US     63   \n",
       "1       41     2     NaN  ...         2         6  Native, Born In US     63   \n",
       "2       41     2     NaN  ...         2         6  Native, Born In US     63   \n",
       "3       40     1     NaN  ...         2         4  Native, Born In US     63   \n",
       "4       43     1     NaN  ...         2         4  Native, Born In US     63   \n",
       "\n",
       "                                               ind02 occ2012  \\\n",
       "0                         Employment services (5613)     630   \n",
       "1                     Outpatient care centers (6214)    5400   \n",
       "2  Motor vehicles and motor vehicle equipment man...    8140   \n",
       "3  **Publishing, except newspapers and software (...    8255   \n",
       "4  Banking and related activities (521, 52211,52219)    5940   \n",
       "\n",
       "                 class unionmme  unioncov            lfsr94  \n",
       "0  Private, For Profit       No        No  Employed-At Work  \n",
       "1  Private, For Profit       No        No   Employed-Absent  \n",
       "2  Private, For Profit       No        No  Employed-At Work  \n",
       "3  Private, For Profit      Yes       NaN  Employed-At Work  \n",
       "4  Private, For Profit       No        No  Employed-At Work  \n",
       "\n",
       "[5 rows x 23 columns]"
      ]
     },
     "execution_count": 4,
     "metadata": {},
     "output_type": "execute_result"
    }
   ],
   "source": [
    "# read the data from the csv file\n",
    "all_df = pd.read_csv('morg-2014-emp.csv')\n",
    "all_df.head()"
   ]
  },
  {
   "cell_type": "code",
   "execution_count": 5,
   "id": "a7239758-acb6-41b0-91de-53ad537e2369",
   "metadata": {
    "tags": []
   },
   "outputs": [],
   "source": [
    "# Filter the data for occ2012 between 1010 and 1107\n",
    "# comp_sample = all_df[(all_df['occ2012'] >= 1010) & (all_df['occ2012'] <= 1107)]\n",
    "comp_sample = all_df[(all_df['occ2012'] >= 7700) & (all_df['occ2012'] <= 8965)]\n",
    "#drop the all_df\n",
    "del(all_df)"
   ]
  },
  {
   "cell_type": "code",
   "execution_count": 6,
   "id": "9a5f7302-e8ff-46d6-bddf-046446da8bd9",
   "metadata": {},
   "outputs": [
    {
     "data": {
      "text/plain": [
       "2         18.17\n",
       "3         19.23\n",
       "59         8.65\n",
       "75        23.00\n",
       "81        25.00\n",
       "          ...  \n",
       "149240    27.50\n",
       "149269    36.00\n",
       "149271    14.00\n",
       "149285    12.99\n",
       "149293    13.80\n",
       "Name: hourly_wage, Length: 9205, dtype: float64"
      ]
     },
     "execution_count": 6,
     "metadata": {},
     "output_type": "execute_result"
    }
   ],
   "source": [
    "# Add a column 'hourly_wage' to the DataFrame\n",
    "comp_sample['hourly_wage'] = comp_sample['earnwke'] / comp_sample['uhours']\n",
    "np.round(comp_sample['hourly_wage'], decimals=2)"
   ]
  },
  {
   "cell_type": "code",
   "execution_count": 7,
   "id": "08c9f78c-c1a5-4db9-bee1-f3dc55f9b488",
   "metadata": {
    "tags": []
   },
   "outputs": [],
   "source": [
    "# add column female to have boolean for male or female\n",
    "comp_sample['female'] = comp_sample['sex'].apply(lambda x: 1 if x == 2 else 0)"
   ]
  },
  {
   "cell_type": "code",
   "execution_count": 8,
   "id": "bd1ea847-0b04-4ac6-bb18-d6834fe67ac3",
   "metadata": {
    "tags": []
   },
   "outputs": [],
   "source": [
    "# Map the education levels based on 'grade92'\n",
    "edu_level_dict = {\n",
    "    31: 'Less than 1st grade',\n",
    "    32: '1st - 4th grade',\n",
    "    33: '5th or 6th',\n",
    "    34: '7th or 8th',\n",
    "    35: '9th',\n",
    "    36: '10th',\n",
    "    37: '11th',\n",
    "    38: '12th grade NO DIPLOMA',\n",
    "    39: 'High school graduate, diploma or GED',\n",
    "    40: 'Some college but no degree',\n",
    "    41: 'Associate degree -- occupational/vocational',\n",
    "    42: 'Associate degree -- academic program',\n",
    "    43: \"Bachelor's degree\",\n",
    "    44: \"Master's degree\",\n",
    "    45: 'Professional school degree',\n",
    "    46: 'Doctorate degree'\n",
    "}\n",
    "comp_sample['edu_level'] = comp_sample['grade92'].map(edu_level_dict)"
   ]
  },
  {
   "cell_type": "code",
   "execution_count": 9,
   "id": "b5797f0e-7217-4962-8aa9-24957111e950",
   "metadata": {
    "tags": []
   },
   "outputs": [],
   "source": [
    "# Add the sex_text column for descriptive values\n",
    "comp_sample['sex_text'] = comp_sample['female'].apply(lambda x: '[1] female' if x == 1 else '[0] male')"
   ]
  },
  {
   "cell_type": "code",
   "execution_count": 10,
   "id": "115798b0-eaaa-4a72-a8cf-bcdb8488b788",
   "metadata": {
    "tags": []
   },
   "outputs": [],
   "source": [
    "# Add the ln_wage column\n",
    "comp_sample['ln_wage'] = np.log(comp_sample['hourly_wage'])"
   ]
  },
  {
   "cell_type": "code",
   "execution_count": 11,
   "id": "1c5b315c-02f2-4d42-8ef9-dafec027d308",
   "metadata": {
    "tags": []
   },
   "outputs": [
    {
     "data": {
      "text/html": [
       "<div>\n",
       "<style scoped>\n",
       "    .dataframe tbody tr th:only-of-type {\n",
       "        vertical-align: middle;\n",
       "    }\n",
       "\n",
       "    .dataframe tbody tr th {\n",
       "        vertical-align: top;\n",
       "    }\n",
       "\n",
       "    .dataframe thead th {\n",
       "        text-align: right;\n",
       "    }\n",
       "</style>\n",
       "<table border=\"1\" class=\"dataframe\">\n",
       "  <thead>\n",
       "    <tr style=\"text-align: right;\">\n",
       "      <th></th>\n",
       "      <th>earnwke</th>\n",
       "      <th>uhours</th>\n",
       "      <th>hourly_wage</th>\n",
       "      <th>ln_wage</th>\n",
       "    </tr>\n",
       "  </thead>\n",
       "  <tbody>\n",
       "    <tr>\n",
       "      <th>count</th>\n",
       "      <td>9205.000000</td>\n",
       "      <td>9205.000000</td>\n",
       "      <td>9205.000000</td>\n",
       "      <td>9205.000000</td>\n",
       "    </tr>\n",
       "    <tr>\n",
       "      <th>mean</th>\n",
       "      <td>740.690005</td>\n",
       "      <td>40.739598</td>\n",
       "      <td>17.862682</td>\n",
       "      <td>2.760134</td>\n",
       "    </tr>\n",
       "    <tr>\n",
       "      <th>std</th>\n",
       "      <td>438.660123</td>\n",
       "      <td>7.481636</td>\n",
       "      <td>9.639406</td>\n",
       "      <td>0.512273</td>\n",
       "    </tr>\n",
       "    <tr>\n",
       "      <th>min</th>\n",
       "      <td>1.000000</td>\n",
       "      <td>2.000000</td>\n",
       "      <td>0.016667</td>\n",
       "      <td>-4.094345</td>\n",
       "    </tr>\n",
       "    <tr>\n",
       "      <th>25%</th>\n",
       "      <td>450.000000</td>\n",
       "      <td>40.000000</td>\n",
       "      <td>11.450000</td>\n",
       "      <td>2.437990</td>\n",
       "    </tr>\n",
       "    <tr>\n",
       "      <th>50%</th>\n",
       "      <td>636.500000</td>\n",
       "      <td>40.000000</td>\n",
       "      <td>15.384500</td>\n",
       "      <td>2.733361</td>\n",
       "    </tr>\n",
       "    <tr>\n",
       "      <th>75%</th>\n",
       "      <td>910.000000</td>\n",
       "      <td>40.000000</td>\n",
       "      <td>21.634500</td>\n",
       "      <td>3.074289</td>\n",
       "    </tr>\n",
       "    <tr>\n",
       "      <th>max</th>\n",
       "      <td>2884.610000</td>\n",
       "      <td>99.000000</td>\n",
       "      <td>192.307333</td>\n",
       "      <td>5.259095</td>\n",
       "    </tr>\n",
       "  </tbody>\n",
       "</table>\n",
       "</div>"
      ],
      "text/plain": [
       "           earnwke       uhours  hourly_wage      ln_wage\n",
       "count  9205.000000  9205.000000  9205.000000  9205.000000\n",
       "mean    740.690005    40.739598    17.862682     2.760134\n",
       "std     438.660123     7.481636     9.639406     0.512273\n",
       "min       1.000000     2.000000     0.016667    -4.094345\n",
       "25%     450.000000    40.000000    11.450000     2.437990\n",
       "50%     636.500000    40.000000    15.384500     2.733361\n",
       "75%     910.000000    40.000000    21.634500     3.074289\n",
       "max    2884.610000    99.000000   192.307333     5.259095"
      ]
     },
     "execution_count": 11,
     "metadata": {},
     "output_type": "execute_result"
    }
   ],
   "source": [
    "# Describe the wages\n",
    "comp_sample.loc[:, [\"earnwke\", \"uhours\", \"hourly_wage\", \"ln_wage\"]].describe()"
   ]
  },
  {
   "cell_type": "code",
   "execution_count": 12,
   "id": "1c1bf8fa-bd3d-40ed-8a0e-5c5611fd74da",
   "metadata": {
    "tags": []
   },
   "outputs": [
    {
     "data": {
      "image/png": "[encoded data removed]",
      "text/plain": [
       "<Figure size 640x480 with 1 Axes>"
      ]
     },
     "metadata": {
      "image/png": {
       "height": 480,
       "width": 640
      }
     },
     "output_type": "display_data"
    },
    {
     "data": {
      "text/plain": [
       "<Figure Size: (640 x 480)>"
      ]
     },
     "execution_count": 12,
     "metadata": {},
     "output_type": "execute_result"
    }
   ],
   "source": [
    "(\n",
    "    ggplot(comp_sample, aes(x=\"ln_wage\", y=\"stat(count)/sum(stat(count))\", fill='factor(sex_text)'))\n",
    "    + geom_histogram(\n",
    "        binwidth=0.1,\n",
    "        boundary=0,\n",
    "        size=0.25,\n",
    "        alpha=0.8,\n",
    "        show_legend=True,\n",
    "        na_rm=True,\n",
    "    )\n",
    "    + labs(x=\"log hourly wages\", y=\"Percent\", fill=\"Sex\")\n",
    "    + expand_limits(x=0.01, y=0.01)\n",
    "    + scale_x_continuous(expand=(0.01, 0.01), limits=(1, 5), breaks=seq(1, 5, 0.5))\n",
    "    + scale_y_continuous(\n",
    "        expand=(0.0, 0.0),\n",
    "        limits=(0, 0.1),\n",
    "        breaks=seq(0, 0.1, 0.02),\n",
    "        labels=percent_format(), #mizani\n",
    "    )\n",
    "    + theme_bw()\n",
    ")"
   ]
  },
  {
   "cell_type": "markdown",
   "id": "462af982-52f4-4f6a-84d7-1638712b2c92",
   "metadata": {
    "tags": []
   },
   "source": [
    "## The unconditional gender gap\n",
    "\n",
    "Here we will calculate the mean hourly wage of male and female and see the the difference in their hourly wage"
   ]
  },
  {
   "cell_type": "code",
   "execution_count": 13,
   "id": "c9e165b3-38d5-4fb5-831d-75d361060742",
   "metadata": {
    "tags": []
   },
   "outputs": [
    {
     "name": "stdout",
     "output_type": "stream",
     "text": [
      "Average male's hourly wage: 19.4033679514815\n",
      "Average female's hourly wage: 13.854848281930211\n",
      "Unconditional gender wage gap between male and female: 5.548519669551288\n"
     ]
    }
   ],
   "source": [
    "mean_hourly_wage = comp_sample.groupby('female')['hourly_wage'].mean()\n",
    "print(f\"Average male's hourly wage: {mean_hourly_wage[0]}\")\n",
    "print(f\"Average female's hourly wage: {mean_hourly_wage[1]}\")\n",
    "print(f\"Unconditional gender wage gap between male and female: {mean_hourly_wage[0] - mean_hourly_wage[1]}\")"
   ]
  },
  {
   "cell_type": "markdown",
   "id": "31caaece-f470-4275-8150-72bceb3c4a60",
   "metadata": {},
   "source": [
    "## The gender wage gap conditioning on education level"
   ]
  },
  {
   "cell_type": "code",
   "execution_count": 14,
   "id": "c644c3df-4e57-4947-afba-216f661ae4e4",
   "metadata": {
    "tags": []
   },
   "outputs": [
    {
     "data": {
      "text/plain": [
       "grade92  female\n",
       "31       0         2.541070\n",
       "         1         2.307843\n",
       "32       0         2.573763\n",
       "         1         2.337607\n",
       "33       0         2.562947\n",
       "         1         2.305592\n",
       "34       0         2.585240\n",
       "         1         2.325521\n",
       "35       0         2.568829\n",
       "         1         2.369831\n",
       "36       0         2.591320\n",
       "         1         2.423531\n",
       "37       0         2.595804\n",
       "         1         2.380101\n",
       "38       0         2.631603\n",
       "         1         2.343322\n",
       "39       0         2.836876\n",
       "         1         2.536722\n",
       "40       0         2.872256\n",
       "         1         2.547995\n",
       "41       0         2.993716\n",
       "         1         2.593162\n",
       "42       0         2.961451\n",
       "         1         2.638193\n",
       "43       0         3.068282\n",
       "         1         2.822991\n",
       "44       0         3.225259\n",
       "         1         3.013154\n",
       "45       0         3.154108\n",
       "         1         3.615622\n",
       "46       0         3.227144\n",
       "         1         3.137098\n",
       "Name: ln_wage, dtype: float64"
      ]
     },
     "execution_count": 14,
     "metadata": {},
     "output_type": "execute_result"
    }
   ],
   "source": [
    "comp_sample.groupby(['grade92', 'female'])['ln_wage'].mean()"
   ]
  },
  {
   "cell_type": "code",
   "execution_count": 15,
   "id": "f03fd01b-46ce-4274-9e00-d1cf2b1d2f74",
   "metadata": {
    "tags": []
   },
   "outputs": [
    {
     "data": {
      "image/png": "[encoded data removed]",
      "text/plain": [
       "<Figure size 640x480 with 1 Axes>"
      ]
     },
     "metadata": {
      "image/png": {
       "height": 480,
       "width": 640
      }
     },
     "output_type": "display_data"
    },
    {
     "data": {
      "text/plain": [
       "<Figure Size: (640 x 480)>"
      ]
     },
     "execution_count": 15,
     "metadata": {},
     "output_type": "execute_result"
    }
   ],
   "source": [
    "(\n",
    "    ggplot(comp_sample, aes(x='grade92', y='ln_wage')) +\n",
    "    geom_point(color=color[0]) +\n",
    "    geom_smooth(method='loess', color=color[1], se=False) +\n",
    "    labs(x=\"Education levels\", y=\"ln(wage per hour)\") +\n",
    "    theme_bw()\n",
    ")"
   ]
  },
  {
   "cell_type": "code",
   "execution_count": 16,
   "id": "bf2e1c0b-c5f3-41f7-b358-dfa8409ccb2c",
   "metadata": {
    "tags": []
   },
   "outputs": [
    {
     "data": {
      "text/html": [
       "<table class=\"simpletable\">\n",
       "<caption>OLS Regression Results</caption>\n",
       "<tr>\n",
       "  <th>Dep. Variable:</th>       <td>hourly_wage</td>   <th>  R-squared:         </th> <td>   0.120</td> \n",
       "</tr>\n",
       "<tr>\n",
       "  <th>Model:</th>                   <td>OLS</td>       <th>  Adj. R-squared:    </th> <td>   0.120</td> \n",
       "</tr>\n",
       "<tr>\n",
       "  <th>Method:</th>             <td>Least Squares</td>  <th>  F-statistic:       </th> <td>   827.8</td> \n",
       "</tr>\n",
       "<tr>\n",
       "  <th>Date:</th>             <td>Sat, 18 Nov 2023</td> <th>  Prob (F-statistic):</th>  <td>  0.00</td>  \n",
       "</tr>\n",
       "<tr>\n",
       "  <th>Time:</th>                 <td>01:59:14</td>     <th>  Log-Likelihood:    </th> <td> -33328.</td> \n",
       "</tr>\n",
       "<tr>\n",
       "  <th>No. Observations:</th>      <td>  9205</td>      <th>  AIC:               </th> <td>6.666e+04</td>\n",
       "</tr>\n",
       "<tr>\n",
       "  <th>Df Residuals:</th>          <td>  9202</td>      <th>  BIC:               </th> <td>6.668e+04</td>\n",
       "</tr>\n",
       "<tr>\n",
       "  <th>Df Model:</th>              <td>     2</td>      <th>                     </th>     <td> </td>    \n",
       "</tr>\n",
       "<tr>\n",
       "  <th>Covariance Type:</th>         <td>HC1</td>       <th>                     </th>     <td> </td>    \n",
       "</tr>\n",
       "</table>\n",
       "<table class=\"simpletable\">\n",
       "<tr>\n",
       "      <td></td>         <th>coef</th>     <th>std err</th>      <th>z</th>      <th>P>|z|</th>  <th>[0.025</th>    <th>0.975]</th>  \n",
       "</tr>\n",
       "<tr>\n",
       "  <th>Intercept</th> <td>  -19.6415</td> <td>    1.565</td> <td>  -12.554</td> <td> 0.000</td> <td>  -22.708</td> <td>  -16.575</td>\n",
       "</tr>\n",
       "<tr>\n",
       "  <th>female</th>    <td>   -5.1733</td> <td>    0.176</td> <td>  -29.395</td> <td> 0.000</td> <td>   -5.518</td> <td>   -4.828</td>\n",
       "</tr>\n",
       "<tr>\n",
       "  <th>grade92</th>   <td>    0.9937</td> <td>    0.040</td> <td>   24.627</td> <td> 0.000</td> <td>    0.915</td> <td>    1.073</td>\n",
       "</tr>\n",
       "</table>\n",
       "<table class=\"simpletable\">\n",
       "<tr>\n",
       "  <th>Omnibus:</th>       <td>5780.665</td> <th>  Durbin-Watson:     </th>  <td>   1.930</td> \n",
       "</tr>\n",
       "<tr>\n",
       "  <th>Prob(Omnibus):</th>  <td> 0.000</td>  <th>  Jarque-Bera (JB):  </th> <td>168587.128</td>\n",
       "</tr>\n",
       "<tr>\n",
       "  <th>Skew:</th>           <td> 2.535</td>  <th>  Prob(JB):          </th>  <td>    0.00</td> \n",
       "</tr>\n",
       "<tr>\n",
       "  <th>Kurtosis:</th>       <td>23.343</td>  <th>  Cond. No.          </th>  <td>    687.</td> \n",
       "</tr>\n",
       "</table><br/><br/>Notes:<br/>[1] Standard Errors are heteroscedasticity robust (HC1)"
      ],
      "text/latex": [
       "\\begin{center}\n",
       "\\begin{tabular}{lclc}\n",
       "\\toprule\n",
       "\\textbf{Dep. Variable:}    &   hourly\\_wage   & \\textbf{  R-squared:         } &     0.120   \\\\\n",
       "\\textbf{Model:}            &       OLS        & \\textbf{  Adj. R-squared:    } &     0.120   \\\\\n",
       "\\textbf{Method:}           &  Least Squares   & \\textbf{  F-statistic:       } &     827.8   \\\\\n",
       "\\textbf{Date:}             & Sat, 18 Nov 2023 & \\textbf{  Prob (F-statistic):} &     0.00    \\\\\n",
       "\\textbf{Time:}             &     01:59:14     & \\textbf{  Log-Likelihood:    } &   -33328.   \\\\\n",
       "\\textbf{No. Observations:} &        9205      & \\textbf{  AIC:               } & 6.666e+04   \\\\\n",
       "\\textbf{Df Residuals:}     &        9202      & \\textbf{  BIC:               } & 6.668e+04   \\\\\n",
       "\\textbf{Df Model:}         &           2      & \\textbf{                     } &             \\\\\n",
       "\\textbf{Covariance Type:}  &       HC1        & \\textbf{                     } &             \\\\\n",
       "\\bottomrule\n",
       "\\end{tabular}\n",
       "\\begin{tabular}{lcccccc}\n",
       "                   & \\textbf{coef} & \\textbf{std err} & \\textbf{z} & \\textbf{P$> |$z$|$} & \\textbf{[0.025} & \\textbf{0.975]}  \\\\\n",
       "\\midrule\n",
       "\\textbf{Intercept} &     -19.6415  &        1.565     &   -12.554  &         0.000        &      -22.708    &      -16.575     \\\\\n",
       "\\textbf{female}    &      -5.1733  &        0.176     &   -29.395  &         0.000        &       -5.518    &       -4.828     \\\\\n",
       "\\textbf{grade92}   &       0.9937  &        0.040     &    24.627  &         0.000        &        0.915    &        1.073     \\\\\n",
       "\\bottomrule\n",
       "\\end{tabular}\n",
       "\\begin{tabular}{lclc}\n",
       "\\textbf{Omnibus:}       & 5780.665 & \\textbf{  Durbin-Watson:     } &     1.930   \\\\\n",
       "\\textbf{Prob(Omnibus):} &   0.000  & \\textbf{  Jarque-Bera (JB):  } & 168587.128  \\\\\n",
       "\\textbf{Skew:}          &   2.535  & \\textbf{  Prob(JB):          } &      0.00   \\\\\n",
       "\\textbf{Kurtosis:}      &  23.343  & \\textbf{  Cond. No.          } &      687.   \\\\\n",
       "\\bottomrule\n",
       "\\end{tabular}\n",
       "%\\caption{OLS Regression Results}\n",
       "\\end{center}\n",
       "\n",
       "Notes: \\newline\n",
       " [1] Standard Errors are heteroscedasticity robust (HC1)"
      ],
      "text/plain": [
       "<class 'statsmodels.iolib.summary.Summary'>\n",
       "\"\"\"\n",
       "                            OLS Regression Results                            \n",
       "==============================================================================\n",
       "Dep. Variable:            hourly_wage   R-squared:                       0.120\n",
       "Model:                            OLS   Adj. R-squared:                  0.120\n",
       "Method:                 Least Squares   F-statistic:                     827.8\n",
       "Date:                Sat, 18 Nov 2023   Prob (F-statistic):               0.00\n",
       "Time:                        01:59:14   Log-Likelihood:                -33328.\n",
       "No. Observations:                9205   AIC:                         6.666e+04\n",
       "Df Residuals:                    9202   BIC:                         6.668e+04\n",
       "Df Model:                           2                                         \n",
       "Covariance Type:                  HC1                                         \n",
       "==============================================================================\n",
       "                 coef    std err          z      P>|z|      [0.025      0.975]\n",
       "------------------------------------------------------------------------------\n",
       "Intercept    -19.6415      1.565    -12.554      0.000     -22.708     -16.575\n",
       "female        -5.1733      0.176    -29.395      0.000      -5.518      -4.828\n",
       "grade92        0.9937      0.040     24.627      0.000       0.915       1.073\n",
       "==============================================================================\n",
       "Omnibus:                     5780.665   Durbin-Watson:                   1.930\n",
       "Prob(Omnibus):                  0.000   Jarque-Bera (JB):           168587.128\n",
       "Skew:                           2.535   Prob(JB):                         0.00\n",
       "Kurtosis:                      23.343   Cond. No.                         687.\n",
       "==============================================================================\n",
       "\n",
       "Notes:\n",
       "[1] Standard Errors are heteroscedasticity robust (HC1)\n",
       "\"\"\""
      ]
     },
     "execution_count": 16,
     "metadata": {},
     "output_type": "execute_result"
    }
   ],
   "source": [
    "reg1 = smf.ols(formula=\"hourly_wage~female+grade92\", data=comp_sample).fit(cov_type=\"HC1\")\n",
    "reg1.summary()"
   ]
  },
  {
   "cell_type": "code",
   "execution_count": 17,
   "id": "6b6ae5f1-0573-4548-9729-8d2db2c39a76",
   "metadata": {
    "tags": []
   },
   "outputs": [
    {
     "data": {
      "text/html": [
       "<table class=\"simpletable\">\n",
       "<caption>OLS Regression Results</caption>\n",
       "<tr>\n",
       "  <th>Dep. Variable:</th>         <td>ln_wage</td>     <th>  R-squared:         </th> <td>   0.128</td> \n",
       "</tr>\n",
       "<tr>\n",
       "  <th>Model:</th>                   <td>OLS</td>       <th>  Adj. R-squared:    </th> <td>   0.128</td> \n",
       "</tr>\n",
       "<tr>\n",
       "  <th>Method:</th>             <td>Least Squares</td>  <th>  F-statistic:       </th> <td>   866.4</td> \n",
       "</tr>\n",
       "<tr>\n",
       "  <th>Date:</th>             <td>Sat, 18 Nov 2023</td> <th>  Prob (F-statistic):</th>  <td>  0.00</td>  \n",
       "</tr>\n",
       "<tr>\n",
       "  <th>Time:</th>                 <td>01:59:14</td>     <th>  Log-Likelihood:    </th> <td> -6272.7</td> \n",
       "</tr>\n",
       "<tr>\n",
       "  <th>No. Observations:</th>      <td>  9205</td>      <th>  AIC:               </th> <td>1.255e+04</td>\n",
       "</tr>\n",
       "<tr>\n",
       "  <th>Df Residuals:</th>          <td>  9202</td>      <th>  BIC:               </th> <td>1.257e+04</td>\n",
       "</tr>\n",
       "<tr>\n",
       "  <th>Df Model:</th>              <td>     2</td>      <th>                     </th>     <td> </td>    \n",
       "</tr>\n",
       "<tr>\n",
       "  <th>Covariance Type:</th>         <td>HC1</td>       <th>                     </th>     <td> </td>    \n",
       "</tr>\n",
       "</table>\n",
       "<table class=\"simpletable\">\n",
       "<tr>\n",
       "      <td></td>         <th>coef</th>     <th>std err</th>      <th>z</th>      <th>P>|z|</th>  <th>[0.025</th>    <th>0.975]</th>  \n",
       "</tr>\n",
       "<tr>\n",
       "  <th>Intercept</th> <td>    0.7545</td> <td>    0.079</td> <td>    9.608</td> <td> 0.000</td> <td>    0.601</td> <td>    0.908</td>\n",
       "</tr>\n",
       "<tr>\n",
       "  <th>female</th>    <td>   -0.2896</td> <td>    0.010</td> <td>  -27.685</td> <td> 0.000</td> <td>   -0.310</td> <td>   -0.269</td>\n",
       "</tr>\n",
       "<tr>\n",
       "  <th>grade92</th>   <td>    0.0532</td> <td>    0.002</td> <td>   26.685</td> <td> 0.000</td> <td>    0.049</td> <td>    0.057</td>\n",
       "</tr>\n",
       "</table>\n",
       "<table class=\"simpletable\">\n",
       "<tr>\n",
       "  <th>Omnibus:</th>       <td>4112.026</td> <th>  Durbin-Watson:     </th>  <td>   1.962</td> \n",
       "</tr>\n",
       "<tr>\n",
       "  <th>Prob(Omnibus):</th>  <td> 0.000</td>  <th>  Jarque-Bera (JB):  </th> <td>107434.068</td>\n",
       "</tr>\n",
       "<tr>\n",
       "  <th>Skew:</th>           <td>-1.576</td>  <th>  Prob(JB):          </th>  <td>    0.00</td> \n",
       "</tr>\n",
       "<tr>\n",
       "  <th>Kurtosis:</th>       <td>19.437</td>  <th>  Cond. No.          </th>  <td>    687.</td> \n",
       "</tr>\n",
       "</table><br/><br/>Notes:<br/>[1] Standard Errors are heteroscedasticity robust (HC1)"
      ],
      "text/latex": [
       "\\begin{center}\n",
       "\\begin{tabular}{lclc}\n",
       "\\toprule\n",
       "\\textbf{Dep. Variable:}    &     ln\\_wage     & \\textbf{  R-squared:         } &     0.128   \\\\\n",
       "\\textbf{Model:}            &       OLS        & \\textbf{  Adj. R-squared:    } &     0.128   \\\\\n",
       "\\textbf{Method:}           &  Least Squares   & \\textbf{  F-statistic:       } &     866.4   \\\\\n",
       "\\textbf{Date:}             & Sat, 18 Nov 2023 & \\textbf{  Prob (F-statistic):} &     0.00    \\\\\n",
       "\\textbf{Time:}             &     01:59:14     & \\textbf{  Log-Likelihood:    } &   -6272.7   \\\\\n",
       "\\textbf{No. Observations:} &        9205      & \\textbf{  AIC:               } & 1.255e+04   \\\\\n",
       "\\textbf{Df Residuals:}     &        9202      & \\textbf{  BIC:               } & 1.257e+04   \\\\\n",
       "\\textbf{Df Model:}         &           2      & \\textbf{                     } &             \\\\\n",
       "\\textbf{Covariance Type:}  &       HC1        & \\textbf{                     } &             \\\\\n",
       "\\bottomrule\n",
       "\\end{tabular}\n",
       "\\begin{tabular}{lcccccc}\n",
       "                   & \\textbf{coef} & \\textbf{std err} & \\textbf{z} & \\textbf{P$> |$z$|$} & \\textbf{[0.025} & \\textbf{0.975]}  \\\\\n",
       "\\midrule\n",
       "\\textbf{Intercept} &       0.7545  &        0.079     &     9.608  &         0.000        &        0.601    &        0.908     \\\\\n",
       "\\textbf{female}    &      -0.2896  &        0.010     &   -27.685  &         0.000        &       -0.310    &       -0.269     \\\\\n",
       "\\textbf{grade92}   &       0.0532  &        0.002     &    26.685  &         0.000        &        0.049    &        0.057     \\\\\n",
       "\\bottomrule\n",
       "\\end{tabular}\n",
       "\\begin{tabular}{lclc}\n",
       "\\textbf{Omnibus:}       & 4112.026 & \\textbf{  Durbin-Watson:     } &     1.962   \\\\\n",
       "\\textbf{Prob(Omnibus):} &   0.000  & \\textbf{  Jarque-Bera (JB):  } & 107434.068  \\\\\n",
       "\\textbf{Skew:}          &  -1.576  & \\textbf{  Prob(JB):          } &      0.00   \\\\\n",
       "\\textbf{Kurtosis:}      &  19.437  & \\textbf{  Cond. No.          } &      687.   \\\\\n",
       "\\bottomrule\n",
       "\\end{tabular}\n",
       "%\\caption{OLS Regression Results}\n",
       "\\end{center}\n",
       "\n",
       "Notes: \\newline\n",
       " [1] Standard Errors are heteroscedasticity robust (HC1)"
      ],
      "text/plain": [
       "<class 'statsmodels.iolib.summary.Summary'>\n",
       "\"\"\"\n",
       "                            OLS Regression Results                            \n",
       "==============================================================================\n",
       "Dep. Variable:                ln_wage   R-squared:                       0.128\n",
       "Model:                            OLS   Adj. R-squared:                  0.128\n",
       "Method:                 Least Squares   F-statistic:                     866.4\n",
       "Date:                Sat, 18 Nov 2023   Prob (F-statistic):               0.00\n",
       "Time:                        01:59:14   Log-Likelihood:                -6272.7\n",
       "No. Observations:                9205   AIC:                         1.255e+04\n",
       "Df Residuals:                    9202   BIC:                         1.257e+04\n",
       "Df Model:                           2                                         \n",
       "Covariance Type:                  HC1                                         \n",
       "==============================================================================\n",
       "                 coef    std err          z      P>|z|      [0.025      0.975]\n",
       "------------------------------------------------------------------------------\n",
       "Intercept      0.7545      0.079      9.608      0.000       0.601       0.908\n",
       "female        -0.2896      0.010    -27.685      0.000      -0.310      -0.269\n",
       "grade92        0.0532      0.002     26.685      0.000       0.049       0.057\n",
       "==============================================================================\n",
       "Omnibus:                     4112.026   Durbin-Watson:                   1.962\n",
       "Prob(Omnibus):                  0.000   Jarque-Bera (JB):           107434.068\n",
       "Skew:                          -1.576   Prob(JB):                         0.00\n",
       "Kurtosis:                      19.437   Cond. No.                         687.\n",
       "==============================================================================\n",
       "\n",
       "Notes:\n",
       "[1] Standard Errors are heteroscedasticity robust (HC1)\n",
       "\"\"\""
      ]
     },
     "execution_count": 17,
     "metadata": {},
     "output_type": "execute_result"
    }
   ],
   "source": [
    "reg2 = smf.ols(formula=\"ln_wage~female+grade92\", data=comp_sample).fit(cov_type=\"HC1\")\n",
    "reg2.summary()"
   ]
  },
  {
   "cell_type": "code",
   "execution_count": 18,
   "id": "fc0287bd-2748-4aa7-b3e4-61b9c0812c8f",
   "metadata": {
    "tags": []
   },
   "outputs": [
    {
     "data": {
      "text/html": [
       "<table class=\"simpletable\">\n",
       "<caption>OLS Regression Results</caption>\n",
       "<tr>\n",
       "  <th>Dep. Variable:</th>         <td>ln_wage</td>     <th>  R-squared:         </th> <td>   0.130</td> \n",
       "</tr>\n",
       "<tr>\n",
       "  <th>Model:</th>                   <td>OLS</td>       <th>  Adj. R-squared:    </th> <td>   0.129</td> \n",
       "</tr>\n",
       "<tr>\n",
       "  <th>Method:</th>             <td>Least Squares</td>  <th>  F-statistic:       </th> <td>   439.6</td> \n",
       "</tr>\n",
       "<tr>\n",
       "  <th>Date:</th>             <td>Sat, 18 Nov 2023</td> <th>  Prob (F-statistic):</th>  <td>  0.00</td>  \n",
       "</tr>\n",
       "<tr>\n",
       "  <th>Time:</th>                 <td>01:59:14</td>     <th>  Log-Likelihood:    </th> <td> -6263.5</td> \n",
       "</tr>\n",
       "<tr>\n",
       "  <th>No. Observations:</th>      <td>  9205</td>      <th>  AIC:               </th> <td>1.254e+04</td>\n",
       "</tr>\n",
       "<tr>\n",
       "  <th>Df Residuals:</th>          <td>  9200</td>      <th>  BIC:               </th> <td>1.257e+04</td>\n",
       "</tr>\n",
       "<tr>\n",
       "  <th>Df Model:</th>              <td>     4</td>      <th>                     </th>     <td> </td>    \n",
       "</tr>\n",
       "<tr>\n",
       "  <th>Covariance Type:</th>         <td>HC1</td>       <th>                     </th>     <td> </td>    \n",
       "</tr>\n",
       "</table>\n",
       "<table class=\"simpletable\">\n",
       "<tr>\n",
       "                <td></td>                   <th>coef</th>     <th>std err</th>      <th>z</th>      <th>P>|z|</th>  <th>[0.025</th>    <th>0.975]</th>  \n",
       "</tr>\n",
       "<tr>\n",
       "  <th>Intercept</th>                     <td>    1.0523</td> <td>    0.100</td> <td>   10.504</td> <td> 0.000</td> <td>    0.856</td> <td>    1.249</td>\n",
       "</tr>\n",
       "<tr>\n",
       "  <th>female</th>                        <td>   -0.2916</td> <td>    0.010</td> <td>  -27.979</td> <td> 0.000</td> <td>   -0.312</td> <td>   -0.271</td>\n",
       "</tr>\n",
       "<tr>\n",
       "  <th>lspline(grade92, [39, 43])[0]</th> <td>    0.0453</td> <td>    0.003</td> <td>   17.230</td> <td> 0.000</td> <td>    0.040</td> <td>    0.050</td>\n",
       "</tr>\n",
       "<tr>\n",
       "  <th>lspline(grade92, [39, 43])[1]</th> <td>    0.0611</td> <td>    0.004</td> <td>   14.315</td> <td> 0.000</td> <td>    0.053</td> <td>    0.069</td>\n",
       "</tr>\n",
       "<tr>\n",
       "  <th>lspline(grade92, [39, 43])[2]</th> <td>    0.1548</td> <td>    0.044</td> <td>    3.541</td> <td> 0.000</td> <td>    0.069</td> <td>    0.241</td>\n",
       "</tr>\n",
       "</table>\n",
       "<table class=\"simpletable\">\n",
       "<tr>\n",
       "  <th>Omnibus:</th>       <td>4111.079</td> <th>  Durbin-Watson:     </th>  <td>   1.961</td> \n",
       "</tr>\n",
       "<tr>\n",
       "  <th>Prob(Omnibus):</th>  <td> 0.000</td>  <th>  Jarque-Bera (JB):  </th> <td>107234.063</td>\n",
       "</tr>\n",
       "<tr>\n",
       "  <th>Skew:</th>           <td>-1.575</td>  <th>  Prob(JB):          </th>  <td>    0.00</td> \n",
       "</tr>\n",
       "<tr>\n",
       "  <th>Kurtosis:</th>       <td>19.421</td>  <th>  Cond. No.          </th>  <td>    954.</td> \n",
       "</tr>\n",
       "</table><br/><br/>Notes:<br/>[1] Standard Errors are heteroscedasticity robust (HC1)"
      ],
      "text/latex": [
       "\\begin{center}\n",
       "\\begin{tabular}{lclc}\n",
       "\\toprule\n",
       "\\textbf{Dep. Variable:}                &     ln\\_wage     & \\textbf{  R-squared:         } &     0.130   \\\\\n",
       "\\textbf{Model:}                        &       OLS        & \\textbf{  Adj. R-squared:    } &     0.129   \\\\\n",
       "\\textbf{Method:}                       &  Least Squares   & \\textbf{  F-statistic:       } &     439.6   \\\\\n",
       "\\textbf{Date:}                         & Sat, 18 Nov 2023 & \\textbf{  Prob (F-statistic):} &     0.00    \\\\\n",
       "\\textbf{Time:}                         &     01:59:14     & \\textbf{  Log-Likelihood:    } &   -6263.5   \\\\\n",
       "\\textbf{No. Observations:}             &        9205      & \\textbf{  AIC:               } & 1.254e+04   \\\\\n",
       "\\textbf{Df Residuals:}                 &        9200      & \\textbf{  BIC:               } & 1.257e+04   \\\\\n",
       "\\textbf{Df Model:}                     &           4      & \\textbf{                     } &             \\\\\n",
       "\\textbf{Covariance Type:}              &       HC1        & \\textbf{                     } &             \\\\\n",
       "\\bottomrule\n",
       "\\end{tabular}\n",
       "\\begin{tabular}{lcccccc}\n",
       "                                       & \\textbf{coef} & \\textbf{std err} & \\textbf{z} & \\textbf{P$> |$z$|$} & \\textbf{[0.025} & \\textbf{0.975]}  \\\\\n",
       "\\midrule\n",
       "\\textbf{Intercept}                     &       1.0523  &        0.100     &    10.504  &         0.000        &        0.856    &        1.249     \\\\\n",
       "\\textbf{female}                        &      -0.2916  &        0.010     &   -27.979  &         0.000        &       -0.312    &       -0.271     \\\\\n",
       "\\textbf{lspline(grade92, [39, 43])[0]} &       0.0453  &        0.003     &    17.230  &         0.000        &        0.040    &        0.050     \\\\\n",
       "\\textbf{lspline(grade92, [39, 43])[1]} &       0.0611  &        0.004     &    14.315  &         0.000        &        0.053    &        0.069     \\\\\n",
       "\\textbf{lspline(grade92, [39, 43])[2]} &       0.1548  &        0.044     &     3.541  &         0.000        &        0.069    &        0.241     \\\\\n",
       "\\bottomrule\n",
       "\\end{tabular}\n",
       "\\begin{tabular}{lclc}\n",
       "\\textbf{Omnibus:}       & 4111.079 & \\textbf{  Durbin-Watson:     } &     1.961   \\\\\n",
       "\\textbf{Prob(Omnibus):} &   0.000  & \\textbf{  Jarque-Bera (JB):  } & 107234.063  \\\\\n",
       "\\textbf{Skew:}          &  -1.575  & \\textbf{  Prob(JB):          } &      0.00   \\\\\n",
       "\\textbf{Kurtosis:}      &  19.421  & \\textbf{  Cond. No.          } &      954.   \\\\\n",
       "\\bottomrule\n",
       "\\end{tabular}\n",
       "%\\caption{OLS Regression Results}\n",
       "\\end{center}\n",
       "\n",
       "Notes: \\newline\n",
       " [1] Standard Errors are heteroscedasticity robust (HC1)"
      ],
      "text/plain": [
       "<class 'statsmodels.iolib.summary.Summary'>\n",
       "\"\"\"\n",
       "                            OLS Regression Results                            \n",
       "==============================================================================\n",
       "Dep. Variable:                ln_wage   R-squared:                       0.130\n",
       "Model:                            OLS   Adj. R-squared:                  0.129\n",
       "Method:                 Least Squares   F-statistic:                     439.6\n",
       "Date:                Sat, 18 Nov 2023   Prob (F-statistic):               0.00\n",
       "Time:                        01:59:14   Log-Likelihood:                -6263.5\n",
       "No. Observations:                9205   AIC:                         1.254e+04\n",
       "Df Residuals:                    9200   BIC:                         1.257e+04\n",
       "Df Model:                           4                                         \n",
       "Covariance Type:                  HC1                                         \n",
       "=================================================================================================\n",
       "                                    coef    std err          z      P>|z|      [0.025      0.975]\n",
       "-------------------------------------------------------------------------------------------------\n",
       "Intercept                         1.0523      0.100     10.504      0.000       0.856       1.249\n",
       "female                           -0.2916      0.010    -27.979      0.000      -0.312      -0.271\n",
       "lspline(grade92, [39, 43])[0]     0.0453      0.003     17.230      0.000       0.040       0.050\n",
       "lspline(grade92, [39, 43])[1]     0.0611      0.004     14.315      0.000       0.053       0.069\n",
       "lspline(grade92, [39, 43])[2]     0.1548      0.044      3.541      0.000       0.069       0.241\n",
       "==============================================================================\n",
       "Omnibus:                     4111.079   Durbin-Watson:                   1.961\n",
       "Prob(Omnibus):                  0.000   Jarque-Bera (JB):           107234.063\n",
       "Skew:                          -1.575   Prob(JB):                         0.00\n",
       "Kurtosis:                      19.421   Cond. No.                         954.\n",
       "==============================================================================\n",
       "\n",
       "Notes:\n",
       "[1] Standard Errors are heteroscedasticity robust (HC1)\n",
       "\"\"\""
      ]
     },
     "execution_count": 18,
     "metadata": {},
     "output_type": "execute_result"
    }
   ],
   "source": [
    "reg3 = smf.ols(formula=\"ln_wage~female+lspline(grade92,[39,43])\", data=comp_sample).fit(cov_type=\"HC1\")\n",
    "reg3.summary()"
   ]
  },
  {
   "cell_type": "code",
   "execution_count": 19,
   "id": "c14d9bc5-a896-46f4-b7aa-364c1025e267",
   "metadata": {
    "tags": []
   },
   "outputs": [
    {
     "data": {
      "text/html": [
       "<table style=\"text-align:center\"><tr><td colspan=\"3\" style=\"border-bottom: 1px solid black\"></td></tr>\n",
       "<tr><td style=\"text-align:left\"></td><td colspan=\"2\"><em>Dependent variable: ln_wage</em></td></tr><tr><td style=\"text-align:left\"></td><tr><td style=\"text-align:left\"></td><td>(1)</td><td>(2)</td></tr>\n",
       "<tr><td colspan=\"3\" style=\"border-bottom: 1px solid black\"></td></tr>\n",
       "\n",
       "<tr><td style=\"text-align:left\">female</td><td>-0.290<sup>***</sup></td><td>-0.292<sup>***</sup></td></tr>\n",
       "<tr><td style=\"text-align:left\"></td><td>(0.010)</td><td>(0.010)</td></tr>\n",
       "<tr><td style=\"text-align:left\">education level</td><td>0.053<sup>***</sup></td><td></td></tr>\n",
       "<tr><td style=\"text-align:left\"></td><td>(0.002)</td><td></td></tr>\n",
       "<tr><td style=\"text-align:left\">education level <39 (High school or below)</td><td></td><td>0.045<sup>***</sup></td></tr>\n",
       "<tr><td style=\"text-align:left\"></td><td></td><td>(0.003)</td></tr>\n",
       "<tr><td style=\"text-align:left\">education level 39–43 (Bachelor degree)</td><td></td><td>0.061<sup>***</sup></td></tr>\n",
       "<tr><td style=\"text-align:left\"></td><td></td><td>(0.004)</td></tr>\n",
       "<tr><td style=\"text-align:left\">education level >43 (Higher education degree)</td><td></td><td>0.155<sup>***</sup></td></tr>\n",
       "<tr><td style=\"text-align:left\"></td><td></td><td>(0.044)</td></tr>\n",
       "<tr><td style=\"text-align:left\">Constant</td><td>0.754<sup>***</sup></td><td>1.052<sup>***</sup></td></tr>\n",
       "<tr><td style=\"text-align:left\"></td><td>(0.079)</td><td>(0.100)</td></tr>\n",
       "\n",
       "<td colspan=\"3\" style=\"border-bottom: 1px solid black\"></td></tr>\n",
       "<tr><td style=\"text-align: left\">Observations</td><td>9205</td><td>9205</td></tr><tr><td style=\"text-align: left\">R<sup>2</sup></td><td>0.128</td><td>0.130</td></tr><tr><td style=\"text-align: left\">Adjusted R<sup>2</sup></td><td>0.128</td><td>0.129</td></tr><tr><td style=\"text-align: left\">Residual Std. Error</td><td>0.478 (df=9202)</td><td>0.478 (df=9200)</td></tr><tr><td style=\"text-align: left\">F Statistic</td><td>866.432<sup>***</sup> (df=2; 9202)</td><td>439.551<sup>***</sup> (df=4; 9200)</td></tr>\n",
       "<tr><td colspan=\"3\" style=\"border-bottom: 1px solid black\"></td></tr><tr><td style=\"text-align: left\">Note:</td><td colspan=\"2\" style=\"text-align: right\"><sup>*</sup>p&lt;0.1; <sup>**</sup>p&lt;0.05; <sup>***</sup>p&lt;0.01</td></tr></table>"
      ],
      "text/plain": [
       "<stargazer.stargazer.Stargazer at 0x13454b390>"
      ]
     },
     "execution_count": 19,
     "metadata": {},
     "output_type": "execute_result"
    }
   ],
   "source": [
    "stargazer = Stargazer([reg2, reg3])\n",
    "stargazer.covariate_order(\n",
    "    [\n",
    "        \"female\",\n",
    "        \"grade92\",\n",
    "        \"lspline(grade92, [39, 43])[0]\",\n",
    "        \"lspline(grade92, [39, 43])[1]\",\n",
    "        \"lspline(grade92, [39, 43])[2]\",\n",
    "        \"Intercept\",\n",
    "    ]\n",
    ")\n",
    "stargazer.rename_covariates(\n",
    "    {\n",
    "        \"Intercept\": \"Constant\",\n",
    "        \"grade92\": \"education level\",\n",
    "        \"lspline(grade92, [39, 43])[0]\": \"education level <39 (High school or below)\",\n",
    "        \"lspline(grade92, [39, 43])[1]\": \"education level 39–43 (Bachelor degree)\",\n",
    "        \"lspline(grade92, [39, 43])[2]\": \"education level >43 (Higher education degree)\",\n",
    "    }\n",
    ")\n",
    "stargazer"
   ]
  },
  {
   "cell_type": "code",
   "execution_count": null,
   "id": "216233cb-bae1-4ee8-a62c-33129764773c",
   "metadata": {},
   "outputs": [],
   "source": []
  }
 ],
 "metadata": {
  "kernelspec": {
   "display_name": "Python 3 (ipykernel)",
   "language": "python",
   "name": "python3"
  },
  "language_info": {
   "codemirror_mode": {
    "name": "ipython",
    "version": 3
   },
   "file_extension": ".py",
   "mimetype": "text/x-python",
   "name": "python",
   "nbconvert_exporter": "python",
   "pygments_lexer": "ipython3",
   "version": "3.11.5"
  }
 },
 "nbformat": 4,
 "nbformat_minor": 5
}
