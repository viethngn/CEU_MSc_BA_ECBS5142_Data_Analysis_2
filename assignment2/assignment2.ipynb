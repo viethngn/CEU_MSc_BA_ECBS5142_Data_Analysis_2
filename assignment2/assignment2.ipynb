{
 "cells": [
  {
   "cell_type": "markdown",
   "source": [
    "# DA2 Assignment 2"
   ],
   "metadata": {
    "collapsed": false
   },
   "id": "99f5fd11d7add5b5"
  },
  {
   "cell_type": "markdown",
   "source": [
    "Once the city is chosen, first combine the prices dataset with the hotel features dataset. Then,\n",
    "use hotel user ratings to create a binary variable: highly_rated=1 if rating ≥ 4, 0 otherwise.\n",
    "Examine how high rating is related to the other hotel features in the data. Make sure to\n",
    "document and argue for the data cleaning/filtering decisions you make.\n",
    "\n",
    "Estimate linear probability, logit, and probit models with distance and stars as explanatory\n",
    "variables. You may add other variables if you wish.\n",
    "\n",
    "Compare coefficients, marginal differences, and predicted probabilities, and discuss your\n",
    "results."
   ],
   "metadata": {
    "collapsed": false
   },
   "id": "11a8b9f3f1599b10"
  },
  {
   "cell_type": "code",
   "execution_count": 1,
   "id": "initial_id",
   "metadata": {
    "collapsed": true,
    "ExecuteTime": {
     "end_time": "2023-12-03T17:36:20.969013Z",
     "start_time": "2023-12-03T17:36:20.966884Z"
    }
   },
   "outputs": [],
   "source": [
    "# import libs\n",
    "import pandas as pd\n",
    "import numpy as np"
   ]
  },
  {
   "cell_type": "code",
   "execution_count": 2,
   "outputs": [],
   "source": [
    "feature_df = pd.read_csv('hotels-europe_features.csv')\n",
    "price_df = pd.read_csv('hotels-europe_price.csv')"
   ],
   "metadata": {
    "collapsed": false,
    "ExecuteTime": {
     "end_time": "2023-12-03T17:36:24.601470Z",
     "start_time": "2023-12-03T17:36:24.508220Z"
    }
   },
   "id": "f9432137404cd442"
  },
  {
   "cell_type": "code",
   "execution_count": null,
   "outputs": [],
   "source": [],
   "metadata": {
    "collapsed": false
   },
   "id": "a62de8d82b428f34"
  }
 ],
 "metadata": {
  "kernelspec": {
   "display_name": "Python 3",
   "language": "python",
   "name": "python3"
  },
  "language_info": {
   "codemirror_mode": {
    "name": "ipython",
    "version": 2
   },
   "file_extension": ".py",
   "mimetype": "text/x-python",
   "name": "python",
   "nbconvert_exporter": "python",
   "pygments_lexer": "ipython2",
   "version": "2.7.6"
  }
 },
 "nbformat": 4,
 "nbformat_minor": 5
}
